{
 "cells": [
  {
   "cell_type": "markdown",
   "id": "9fc890c3",
   "metadata": {},
   "source": [
    "# 01. Importing libraries"
   ]
  },
  {
   "cell_type": "code",
   "execution_count": 1,
   "id": "b0a853b3",
   "metadata": {},
   "outputs": [],
   "source": [
    "# Import libraries\n",
    "import pandas as pd\n",
    "import numpy as np\n",
    "import os"
   ]
  },
  {
   "cell_type": "markdown",
   "id": "fe4237fc",
   "metadata": {},
   "source": [
    "# 02. Python data types"
   ]
  },
  {
   "cell_type": "code",
   "execution_count": 2,
   "id": "1b3d6e13",
   "metadata": {},
   "outputs": [
    {
     "data": {
      "text/plain": [
       "100"
      ]
     },
     "execution_count": 2,
     "metadata": {},
     "output_type": "execute_result"
    }
   ],
   "source": [
    "#Code 3 ways of reaching 100\n",
    "a = 100\n",
    "b = 50\n",
    "c = 25\n",
    "\n",
    "b + c + c"
   ]
  },
  {
   "cell_type": "code",
   "execution_count": 3,
   "id": "58423011",
   "metadata": {},
   "outputs": [
    {
     "data": {
      "text/plain": [
       "100"
      ]
     },
     "execution_count": 3,
     "metadata": {},
     "output_type": "execute_result"
    }
   ],
   "source": [
    "a*2 - a"
   ]
  },
  {
   "cell_type": "code",
   "execution_count": 4,
   "id": "ed68aa0a",
   "metadata": {},
   "outputs": [
    {
     "data": {
      "text/plain": [
       "100"
      ]
     },
     "execution_count": 4,
     "metadata": {},
     "output_type": "execute_result"
    }
   ],
   "source": [
    "a + b - 2*c"
   ]
  },
  {
   "cell_type": "code",
   "execution_count": 5,
   "id": "fec9e5e1",
   "metadata": {},
   "outputs": [
    {
     "data": {
      "text/plain": [
       "3.1417032901769804"
      ]
     },
     "execution_count": 5,
     "metadata": {},
     "output_type": "execute_result"
    }
   ],
   "source": [
    "#Code 2 floating-point variables and divide them by each other\n",
    "x = 26.45\n",
    "y = 8.419\n",
    "\n",
    "x/y"
   ]
  },
  {
   "cell_type": "code",
   "execution_count": 6,
   "id": "ef12d3c9",
   "metadata": {},
   "outputs": [
    {
     "data": {
      "text/plain": [
       "'substitute'"
      ]
     },
     "execution_count": 6,
     "metadata": {},
     "output_type": "execute_result"
    }
   ],
   "source": [
    "#Construct a short word made of separate strings\n",
    "d = 'sub'\n",
    "e = 'sti'\n",
    "f = 'tute'\n",
    "\n",
    "d + e + f"
   ]
  },
  {
   "cell_type": "code",
   "execution_count": 8,
   "id": "89a40fc5",
   "metadata": {},
   "outputs": [
    {
     "data": {
      "text/plain": [
       "'My name is Nikki'"
      ]
     },
     "execution_count": 8,
     "metadata": {},
     "output_type": "execute_result"
    }
   ],
   "source": [
    "#Construct 2 short sentences made of separate strings\n",
    "g = \"My \"\n",
    "h = \"name \"\n",
    "i = \"is Nikki\"\n",
    "j = \"is not Nicole\"\n",
    "\n",
    "g + h + i"
   ]
  },
  {
   "cell_type": "code",
   "execution_count": 9,
   "id": "56901a99",
   "metadata": {},
   "outputs": [
    {
     "data": {
      "text/plain": [
       "'My name is not Nicole'"
      ]
     },
     "execution_count": 9,
     "metadata": {},
     "output_type": "execute_result"
    }
   ],
   "source": [
    "g + h + j"
   ]
  },
  {
   "cell_type": "code",
   "execution_count": 11,
   "id": "2b7864b8",
   "metadata": {},
   "outputs": [
    {
     "data": {
      "text/plain": [
       "'substitute substitute substitute substitute substitute substitute substitute substitute substitute substitute substitute substitute substitute substitute substitute substitute substitute substitute substitute substitute substitute substitute substitute substitute substitute substitute substitute substitute substitute substitute substitute substitute substitute substitute substitute substitute substitute substitute substitute substitute substitute substitute substitute substitute substitute substitute substitute substitute substitute substitute substitute substitute substitute substitute substitute substitute substitute substitute substitute substitute substitute substitute substitute substitute substitute substitute substitute substitute substitute substitute substitute substitute substitute substitute substitute substitute substitute substitute substitute substitute substitute substitute substitute substitute substitute substitute substitute substitute substitute substitute substitute substitute substitute substitute substitute substitute substitute substitute substitute substitute '"
      ]
     },
     "execution_count": 11,
     "metadata": {},
     "output_type": "execute_result"
    }
   ],
   "source": [
    "#A command that makes a string appear 100 times.\n",
    "(d+e+f+\" \") * 100"
   ]
  }
 ],
 "metadata": {
  "kernelspec": {
   "display_name": "Python 3 (ipykernel)",
   "language": "python",
   "name": "python3"
  },
  "language_info": {
   "codemirror_mode": {
    "name": "ipython",
    "version": 3
   },
   "file_extension": ".py",
   "mimetype": "text/x-python",
   "name": "python",
   "nbconvert_exporter": "python",
   "pygments_lexer": "ipython3",
   "version": "3.10.9"
  }
 },
 "nbformat": 4,
 "nbformat_minor": 5
}
